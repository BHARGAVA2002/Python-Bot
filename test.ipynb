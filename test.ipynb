{
 "cells": [
  {
   "cell_type": "code",
   "execution_count": 1,
   "metadata": {},
   "outputs": [
    {
     "name": "stdout",
     "output_type": "stream",
     "text": [
      "['', '\"CS51\",89', '', '', '', '\"CS52\",96', '', '', '', '', '', '', '', '', '', '', '', '', '', '', '', '', '', '', '', '', '\"CSL57\",100', '', '', '', '', '\"CSL58\",100', '', '', '', '', '\"CSL56\",100', '', '', '', '\"CS53\",96', '', '', '', '', '\"CSE552\",95', '', '', '', '', '\"ECOE02\",92', '', '']\n"
     ]
    }
   ],
   "source": [
    "import re\n",
    "\n",
    "text='[\"CS51\",89],[\"CS52\",96],[\"C\"[A-S54\",94],[\"CSL57\",100],[\"CSL58\",100],[\"CSL56\",100],[\"CS53\",96],[\"CSE552\",95],[\"ECOE02\",92]'\n",
    "regex='\"[A-Z]{2}\\d{2}\",\\d{2}||\"[A-Z]{2}\\d{2}\",\\d{3}||\"[A-Z]{3}\\d{2}\",\\d{3}||\"[A-Z]{3}\\d{2}\",\\d{2}||\"[A-Z]{3}\\d{3}\",\\d{2}||\"[A-Z]{3}\\d{3}\",\\d{3}||\"[A-Z]{4}\\d{2}\",\\d{2}||\"[A-Z]{4}\\d{2}\",\\d{3}'\n",
    "res=re.findall(regex,text)\n",
    "print(res)"
   ]
  },
  {
   "cell_type": "code",
   "execution_count": 2,
   "metadata": {},
   "outputs": [
    {
     "name": "stdout",
     "output_type": "stream",
     "text": [
      "\"CS51\",89\n",
      "\"CS52\",96\n",
      "\"CSL57\",100\n",
      "\"CSL58\",100\n",
      "\"CSL56\",100\n",
      "\"CS53\",96\n",
      "\"CSE552\",95\n",
      "\"ECOE02\",92\n"
     ]
    }
   ],
   "source": [
    "s=\"\"\n",
    "for x in res:\n",
    "    if x!=\"\":\n",
    "        s+=x+\"\\n\"\n",
    "        print(x)"
   ]
  },
  {
   "cell_type": "code",
   "execution_count": null,
   "metadata": {},
   "outputs": [],
   "source": []
  },
  {
   "cell_type": "code",
   "execution_count": 3,
   "metadata": {},
   "outputs": [
    {
     "name": "stdout",
     "output_type": "stream",
     "text": [
      "Help on method_descriptor:\n",
      "\n",
      "replace(self, old, new, count=-1, /)\n",
      "    Return a copy with all occurrences of substring old replaced by new.\n",
      "    \n",
      "      count\n",
      "        Maximum number of occurrences to replace.\n",
      "        -1 (the default value) means replace all occurrences.\n",
      "    \n",
      "    If the optional argument count is given, only the first count occurrences are\n",
      "    replaced.\n",
      "\n"
     ]
    }
   ],
   "source": [
    "help(str.replace)"
   ]
  },
  {
   "cell_type": "code",
   "execution_count": 4,
   "metadata": {},
   "outputs": [
    {
     "name": "stdout",
     "output_type": "stream",
     "text": [
      "[\"CS51\",78],[\"CS52\",97],[\"CS54\",83],[\"CSL57\",100],[\"CSL58\",100],[\"CSL56\",90],[\"CS53\",96],[\"CSE552\",96],[\"ECOE02\",88]\n"
     ]
    }
   ],
   "source": [
    "import requests as rq\n",
    "\n",
    "def split_dob(dob):\n",
    "    temp=dob.split('-')\n",
    "    return temp\n",
    "\n",
    "def scrap_attendence(usn,dob):\n",
    "    temp=split_dob(dob)\n",
    "    dd=temp[0]\n",
    "    mm=temp[1]\n",
    "    yyyy=temp[2]\n",
    "    payload={\n",
    "        \"username\": usn,\n",
    "        \"dd\": dd ,\n",
    "        \"mm\": mm,\n",
    "        \"yyyy\": yyyy,\n",
    "        \"passwd\": yyyy+\"-\"+mm+\"-\"+dd,\n",
    "        \"remember\": \"No\",\n",
    "        \"option\": \"com_user\",\n",
    "        \"task\": \"login\"\n",
    "    }\n",
    "    loginurl=\"https://parents.msrit.edu/index.php\"\n",
    "    dashboardurl=\"https://parents.msrit.edu/index.php?option=com_studentdashboard&controller=studentdashboard&task=dashboard\"\n",
    "\n",
    "    with rq.session() as s:\n",
    "        r=s.post(loginurl,payload)\n",
    "        r2=s.get(dashboardurl)\n",
    "    temptext=r2.text\n",
    "    temps=re.search('type: \"bar\"',temptext)\n",
    "    text=temptext[temps.span()[0]:]\n",
    "    temp=re.search(\"columns:\",text)\n",
    "    temp2=re.search('type: \"gauge\"',text)\n",
    "    arr=text[temp.span()[1]+2:temp2.span()[0]-36]\n",
    "    return arr\n",
    "\n",
    "res=scrap_attendence(\"1ms20cs030\",\"03-04-2002\")\n",
    "print(res)"
   ]
  },
  {
   "cell_type": "code",
   "execution_count": 5,
   "metadata": {},
   "outputs": [
    {
     "name": "stdout",
     "output_type": "stream",
     "text": [
      "['1ms20cs030']\n"
     ]
    }
   ],
   "source": [
    "usn=\"1ms20cs030\"\n",
    "regex=\"1ms[1-2][0-9][a-z][a-z]\\d{3}\"\n",
    "res=re.findall(regex,usn)\n",
    "print(res)"
   ]
  },
  {
   "cell_type": "code",
   "execution_count": 6,
   "metadata": {},
   "outputs": [],
   "source": [
    "import mysql.connector as con\n",
    "import datetime\n",
    "\n",
    "mydb=con.connect(host=\"localhost\",user=\"root\",password=\"msrit\",database=\"Telegram\")\n"
   ]
  },
  {
   "cell_type": "code",
   "execution_count": 7,
   "metadata": {},
   "outputs": [],
   "source": [
    "import datetime as dt\n",
    "\n",
    "def gettime():\n",
    "    text=dt.datetime.today()\n",
    "    temp=str(text)\n",
    "    return temp[0:19]\n",
    "\n",
    "def insertdetails(chatid,name,message):\n",
    "    mycursor=mydb.cursor()\n",
    "    try:\n",
    "        sqlform=\"insert into \"+str(name)+\"_\"+str(chatid)+\"(date_time,Message) values(%s,%s)\"\n",
    "        mycursor.execute(sqlform,(gettime(),message))\n",
    "        mydb.commit()\n",
    "    except:\n",
    "        print(\"Exception occurred\")\n",
    "        mycursor.execute(\"create table \"+str(name)+\"_\"+str(chatid)+\" (date_time varchar(25),Message varchar(50));\")\n",
    "        insertdetails(55555,name,message)\n",
    "\n"
   ]
  },
  {
   "cell_type": "code",
   "execution_count": 8,
   "metadata": {},
   "outputs": [
    {
     "name": "stdout",
     "output_type": "stream",
     "text": [
      "2022-11-24 12:18:37.267686\n"
     ]
    }
   ],
   "source": [
    "import datetime as dt\n",
    "\n",
    "text=dt.datetime.today()\n",
    "print(text)"
   ]
  },
  {
   "cell_type": "code",
   "execution_count": 9,
   "metadata": {},
   "outputs": [
    {
     "name": "stdout",
     "output_type": "stream",
     "text": [
      "2022-11-24 12:18:37\n"
     ]
    }
   ],
   "source": [
    "temp=str(text)\n",
    "print(temp[0:19])"
   ]
  },
  {
   "cell_type": "code",
   "execution_count": 10,
   "metadata": {},
   "outputs": [
    {
     "name": "stdout",
     "output_type": "stream",
     "text": [
      "0 1 2\n"
     ]
    }
   ],
   "source": [
    "a,b,c=range(3)\n",
    "print(a,b,c)"
   ]
  },
  {
   "cell_type": "code",
   "execution_count": 4,
   "metadata": {},
   "outputs": [
    {
     "ename": "Unauthorized",
     "evalue": "Forbidden: bot was blocked by the user",
     "output_type": "error",
     "traceback": [
      "\u001b[1;31m---------------------------------------------------------------------------\u001b[0m",
      "\u001b[1;31mUnauthorized\u001b[0m                              Traceback (most recent call last)",
      "Cell \u001b[1;32mIn [4], line 7\u001b[0m\n\u001b[0;32m      5\u001b[0m bot\u001b[38;5;241m=\u001b[39mt\u001b[38;5;241m.\u001b[39mBot(\u001b[38;5;124m\"\u001b[39m\u001b[38;5;124m5760897427:AAGGyyPbbaG-M2OtxShxduEziDC930mA_bg\u001b[39m\u001b[38;5;124m\"\u001b[39m)\n\u001b[0;32m      6\u001b[0m \u001b[38;5;28;01mfor\u001b[39;00m x \u001b[38;5;129;01min\u001b[39;00m \u001b[38;5;28mrange\u001b[39m(\u001b[38;5;241m150\u001b[39m):\n\u001b[1;32m----> 7\u001b[0m   bot\u001b[38;5;241m.\u001b[39msend_message(\u001b[38;5;241m1315044626\u001b[39m,arr[r\u001b[38;5;241m.\u001b[39mrandint(\u001b[38;5;241m0\u001b[39m,\u001b[38;5;241m3\u001b[39m)])\n",
      "File \u001b[1;32m~\\AppData\\Local\\Programs\\Python\\Python310\\lib\\site-packages\\telegram\\bot.py:133\u001b[0m, in \u001b[0;36mlog.<locals>.decorator\u001b[1;34m(*args, **kwargs)\u001b[0m\n\u001b[0;32m    130\u001b[0m \u001b[38;5;129m@functools\u001b[39m\u001b[38;5;241m.\u001b[39mwraps(func)\n\u001b[0;32m    131\u001b[0m \u001b[38;5;28;01mdef\u001b[39;00m \u001b[38;5;21mdecorator\u001b[39m(\u001b[38;5;241m*\u001b[39margs: \u001b[38;5;28mobject\u001b[39m, \u001b[38;5;241m*\u001b[39m\u001b[38;5;241m*\u001b[39mkwargs: \u001b[38;5;28mobject\u001b[39m) \u001b[38;5;241m-\u001b[39m\u001b[38;5;241m>\u001b[39m RT:  \u001b[38;5;66;03m# pylint: disable=W0613\u001b[39;00m\n\u001b[0;32m    132\u001b[0m     logger\u001b[38;5;241m.\u001b[39mdebug(\u001b[38;5;124m'\u001b[39m\u001b[38;5;124mEntering: \u001b[39m\u001b[38;5;132;01m%s\u001b[39;00m\u001b[38;5;124m'\u001b[39m, func\u001b[38;5;241m.\u001b[39m\u001b[38;5;18m__name__\u001b[39m)\n\u001b[1;32m--> 133\u001b[0m     result \u001b[38;5;241m=\u001b[39m func(\u001b[38;5;241m*\u001b[39margs, \u001b[38;5;241m*\u001b[39m\u001b[38;5;241m*\u001b[39mkwargs)\n\u001b[0;32m    134\u001b[0m     logger\u001b[38;5;241m.\u001b[39mdebug(result)\n\u001b[0;32m    135\u001b[0m     logger\u001b[38;5;241m.\u001b[39mdebug(\u001b[38;5;124m'\u001b[39m\u001b[38;5;124mExiting: \u001b[39m\u001b[38;5;132;01m%s\u001b[39;00m\u001b[38;5;124m'\u001b[39m, func\u001b[38;5;241m.\u001b[39m\u001b[38;5;18m__name__\u001b[39m)\n",
      "File \u001b[1;32m~\\AppData\\Local\\Programs\\Python\\Python310\\lib\\site-packages\\telegram\\bot.py:525\u001b[0m, in \u001b[0;36mBot.send_message\u001b[1;34m(self, chat_id, text, parse_mode, disable_web_page_preview, disable_notification, reply_to_message_id, reply_markup, timeout, api_kwargs, allow_sending_without_reply, entities, protect_content)\u001b[0m\n\u001b[0;32m    522\u001b[0m \u001b[38;5;28;01mif\u001b[39;00m entities:\n\u001b[0;32m    523\u001b[0m     data[\u001b[38;5;124m'\u001b[39m\u001b[38;5;124mentities\u001b[39m\u001b[38;5;124m'\u001b[39m] \u001b[38;5;241m=\u001b[39m [me\u001b[38;5;241m.\u001b[39mto_dict() \u001b[38;5;28;01mfor\u001b[39;00m me \u001b[38;5;129;01min\u001b[39;00m entities]\n\u001b[1;32m--> 525\u001b[0m \u001b[38;5;28;01mreturn\u001b[39;00m \u001b[38;5;28;43mself\u001b[39;49m\u001b[38;5;241;43m.\u001b[39;49m\u001b[43m_message\u001b[49m\u001b[43m(\u001b[49m\u001b[43m  \u001b[49m\u001b[38;5;66;43;03m# type: ignore[return-value]\u001b[39;49;00m\n\u001b[0;32m    526\u001b[0m \u001b[43m    \u001b[49m\u001b[38;5;124;43m'\u001b[39;49m\u001b[38;5;124;43msendMessage\u001b[39;49m\u001b[38;5;124;43m'\u001b[39;49m\u001b[43m,\u001b[49m\n\u001b[0;32m    527\u001b[0m \u001b[43m    \u001b[49m\u001b[43mdata\u001b[49m\u001b[43m,\u001b[49m\n\u001b[0;32m    528\u001b[0m \u001b[43m    \u001b[49m\u001b[43mdisable_notification\u001b[49m\u001b[38;5;241;43m=\u001b[39;49m\u001b[43mdisable_notification\u001b[49m\u001b[43m,\u001b[49m\n\u001b[0;32m    529\u001b[0m \u001b[43m    \u001b[49m\u001b[43mreply_to_message_id\u001b[49m\u001b[38;5;241;43m=\u001b[39;49m\u001b[43mreply_to_message_id\u001b[49m\u001b[43m,\u001b[49m\n\u001b[0;32m    530\u001b[0m \u001b[43m    \u001b[49m\u001b[43mreply_markup\u001b[49m\u001b[38;5;241;43m=\u001b[39;49m\u001b[43mreply_markup\u001b[49m\u001b[43m,\u001b[49m\n\u001b[0;32m    531\u001b[0m \u001b[43m    \u001b[49m\u001b[43mallow_sending_without_reply\u001b[49m\u001b[38;5;241;43m=\u001b[39;49m\u001b[43mallow_sending_without_reply\u001b[49m\u001b[43m,\u001b[49m\n\u001b[0;32m    532\u001b[0m \u001b[43m    \u001b[49m\u001b[43mtimeout\u001b[49m\u001b[38;5;241;43m=\u001b[39;49m\u001b[43mtimeout\u001b[49m\u001b[43m,\u001b[49m\n\u001b[0;32m    533\u001b[0m \u001b[43m    \u001b[49m\u001b[43mapi_kwargs\u001b[49m\u001b[38;5;241;43m=\u001b[39;49m\u001b[43mapi_kwargs\u001b[49m\u001b[43m,\u001b[49m\n\u001b[0;32m    534\u001b[0m \u001b[43m    \u001b[49m\u001b[43mprotect_content\u001b[49m\u001b[38;5;241;43m=\u001b[39;49m\u001b[43mprotect_content\u001b[49m\u001b[43m,\u001b[49m\n\u001b[0;32m    535\u001b[0m \u001b[43m\u001b[49m\u001b[43m)\u001b[49m\n",
      "File \u001b[1;32m~\\AppData\\Local\\Programs\\Python\\Python310\\lib\\site-packages\\telegram\\bot.py:339\u001b[0m, in \u001b[0;36mBot._message\u001b[1;34m(self, endpoint, data, reply_to_message_id, disable_notification, reply_markup, allow_sending_without_reply, timeout, api_kwargs, protect_content)\u001b[0m\n\u001b[0;32m    336\u001b[0m     \u001b[38;5;28;01melse\u001b[39;00m:\n\u001b[0;32m    337\u001b[0m         data[\u001b[38;5;124m'\u001b[39m\u001b[38;5;124mmedia\u001b[39m\u001b[38;5;124m'\u001b[39m]\u001b[38;5;241m.\u001b[39mparse_mode \u001b[38;5;241m=\u001b[39m \u001b[38;5;28;01mNone\u001b[39;00m\n\u001b[1;32m--> 339\u001b[0m result \u001b[38;5;241m=\u001b[39m \u001b[38;5;28;43mself\u001b[39;49m\u001b[38;5;241;43m.\u001b[39;49m\u001b[43m_post\u001b[49m\u001b[43m(\u001b[49m\u001b[43mendpoint\u001b[49m\u001b[43m,\u001b[49m\u001b[43m \u001b[49m\u001b[43mdata\u001b[49m\u001b[43m,\u001b[49m\u001b[43m \u001b[49m\u001b[43mtimeout\u001b[49m\u001b[38;5;241;43m=\u001b[39;49m\u001b[43mtimeout\u001b[49m\u001b[43m,\u001b[49m\u001b[43m \u001b[49m\u001b[43mapi_kwargs\u001b[49m\u001b[38;5;241;43m=\u001b[39;49m\u001b[43mapi_kwargs\u001b[49m\u001b[43m)\u001b[49m\n\u001b[0;32m    341\u001b[0m \u001b[38;5;28;01mif\u001b[39;00m result \u001b[38;5;129;01mis\u001b[39;00m \u001b[38;5;28;01mTrue\u001b[39;00m:\n\u001b[0;32m    342\u001b[0m     \u001b[38;5;28;01mreturn\u001b[39;00m result\n",
      "File \u001b[1;32m~\\AppData\\Local\\Programs\\Python\\Python310\\lib\\site-packages\\telegram\\bot.py:298\u001b[0m, in \u001b[0;36mBot._post\u001b[1;34m(self, endpoint, data, timeout, api_kwargs)\u001b[0m\n\u001b[0;32m    295\u001b[0m \u001b[38;5;66;03m# Drop any None values because Telegram doesn't handle them well\u001b[39;00m\n\u001b[0;32m    296\u001b[0m data \u001b[38;5;241m=\u001b[39m {key: value \u001b[38;5;28;01mfor\u001b[39;00m key, value \u001b[38;5;129;01min\u001b[39;00m data\u001b[38;5;241m.\u001b[39mitems() \u001b[38;5;28;01mif\u001b[39;00m value \u001b[38;5;129;01mis\u001b[39;00m \u001b[38;5;129;01mnot\u001b[39;00m \u001b[38;5;28;01mNone\u001b[39;00m}\n\u001b[1;32m--> 298\u001b[0m \u001b[38;5;28;01mreturn\u001b[39;00m \u001b[38;5;28;43mself\u001b[39;49m\u001b[38;5;241;43m.\u001b[39;49m\u001b[43mrequest\u001b[49m\u001b[38;5;241;43m.\u001b[39;49m\u001b[43mpost\u001b[49m\u001b[43m(\u001b[49m\n\u001b[0;32m    299\u001b[0m \u001b[43m    \u001b[49m\u001b[38;5;124;43mf\u001b[39;49m\u001b[38;5;124;43m'\u001b[39;49m\u001b[38;5;132;43;01m{\u001b[39;49;00m\u001b[38;5;28;43mself\u001b[39;49m\u001b[38;5;241;43m.\u001b[39;49m\u001b[43mbase_url\u001b[49m\u001b[38;5;132;43;01m}\u001b[39;49;00m\u001b[38;5;124;43m/\u001b[39;49m\u001b[38;5;132;43;01m{\u001b[39;49;00m\u001b[43mendpoint\u001b[49m\u001b[38;5;132;43;01m}\u001b[39;49;00m\u001b[38;5;124;43m'\u001b[39;49m\u001b[43m,\u001b[49m\u001b[43m \u001b[49m\u001b[43mdata\u001b[49m\u001b[38;5;241;43m=\u001b[39;49m\u001b[43mdata\u001b[49m\u001b[43m,\u001b[49m\u001b[43m \u001b[49m\u001b[43mtimeout\u001b[49m\u001b[38;5;241;43m=\u001b[39;49m\u001b[43meffective_timeout\u001b[49m\n\u001b[0;32m    300\u001b[0m \u001b[43m\u001b[49m\u001b[43m)\u001b[49m\n",
      "File \u001b[1;32m~\\AppData\\Local\\Programs\\Python\\Python310\\lib\\site-packages\\telegram\\utils\\request.py:361\u001b[0m, in \u001b[0;36mRequest.post\u001b[1;34m(self, url, data, timeout)\u001b[0m\n\u001b[0;32m    359\u001b[0m     result \u001b[38;5;241m=\u001b[39m \u001b[38;5;28mself\u001b[39m\u001b[38;5;241m.\u001b[39m_request_wrapper(\u001b[38;5;124m'\u001b[39m\u001b[38;5;124mPOST\u001b[39m\u001b[38;5;124m'\u001b[39m, url, fields\u001b[38;5;241m=\u001b[39mdata, \u001b[38;5;241m*\u001b[39m\u001b[38;5;241m*\u001b[39murlopen_kwargs)\n\u001b[0;32m    360\u001b[0m \u001b[38;5;28;01melse\u001b[39;00m:\n\u001b[1;32m--> 361\u001b[0m     result \u001b[38;5;241m=\u001b[39m \u001b[38;5;28mself\u001b[39m\u001b[38;5;241m.\u001b[39m_request_wrapper(\n\u001b[0;32m    362\u001b[0m         \u001b[38;5;124m'\u001b[39m\u001b[38;5;124mPOST\u001b[39m\u001b[38;5;124m'\u001b[39m,\n\u001b[0;32m    363\u001b[0m         url,\n\u001b[0;32m    364\u001b[0m         body\u001b[38;5;241m=\u001b[39mjson\u001b[38;5;241m.\u001b[39mdumps(data)\u001b[38;5;241m.\u001b[39mencode(\u001b[38;5;124m'\u001b[39m\u001b[38;5;124mutf-8\u001b[39m\u001b[38;5;124m'\u001b[39m),\n\u001b[0;32m    365\u001b[0m         headers\u001b[38;5;241m=\u001b[39m{\u001b[38;5;124m'\u001b[39m\u001b[38;5;124mContent-Type\u001b[39m\u001b[38;5;124m'\u001b[39m: \u001b[38;5;124m'\u001b[39m\u001b[38;5;124mapplication/json\u001b[39m\u001b[38;5;124m'\u001b[39m},\n\u001b[0;32m    366\u001b[0m         \u001b[38;5;241m*\u001b[39m\u001b[38;5;241m*\u001b[39murlopen_kwargs,\n\u001b[0;32m    367\u001b[0m     )\n\u001b[0;32m    369\u001b[0m \u001b[38;5;28;01mreturn\u001b[39;00m \u001b[38;5;28mself\u001b[39m\u001b[38;5;241m.\u001b[39m_parse(result)\n",
      "File \u001b[1;32m~\\AppData\\Local\\Programs\\Python\\Python310\\lib\\site-packages\\telegram\\utils\\request.py:277\u001b[0m, in \u001b[0;36mRequest._request_wrapper\u001b[1;34m(self, *args, **kwargs)\u001b[0m\n\u001b[0;32m    274\u001b[0m     message \u001b[38;5;241m=\u001b[39m \u001b[38;5;124m'\u001b[39m\u001b[38;5;124mUnknown HTTPError\u001b[39m\u001b[38;5;124m'\u001b[39m\n\u001b[0;32m    276\u001b[0m \u001b[38;5;28;01mif\u001b[39;00m resp\u001b[38;5;241m.\u001b[39mstatus \u001b[38;5;129;01min\u001b[39;00m (\u001b[38;5;241m401\u001b[39m, \u001b[38;5;241m403\u001b[39m):\n\u001b[1;32m--> 277\u001b[0m     \u001b[38;5;28;01mraise\u001b[39;00m Unauthorized(message)\n\u001b[0;32m    278\u001b[0m \u001b[38;5;28;01mif\u001b[39;00m resp\u001b[38;5;241m.\u001b[39mstatus \u001b[38;5;241m==\u001b[39m \u001b[38;5;241m400\u001b[39m:\n\u001b[0;32m    279\u001b[0m     \u001b[38;5;28;01mraise\u001b[39;00m BadRequest(message)\n",
      "\u001b[1;31mUnauthorized\u001b[0m: Forbidden: bot was blocked by the user"
     ]
    }
   ],
   "source": [
    "import telegram as t\n",
    "import random as r\n",
    "\n",
    "arr=[\"Hi bosdike\",\"Loude\",\"Hadak hogiyenle\",\"Bega hog loude\"]\n",
    "bot=t.Bot(\"5760897427:AAGGyyPbbaG-M2OtxShxduEziDC930mA_bg\")\n",
    "for x in range(150):\n",
    "  bot.send_message(1315044626,arr[r.randint(0,3)])"
   ]
  },
  {
   "cell_type": "code",
   "execution_count": 6,
   "metadata": {},
   "outputs": [
    {
     "name": "stdout",
     "output_type": "stream",
     "text": [
      "{'id': 5760897427, 'photo': {'small_file_id': 'AQADBQADisAxG_A_-FcACAIAA5NRYFcBAANbbf1Vjj9W5SsE', 'big_file_id': 'AQADBQADisAxG_A_-FcACAMAA5NRYFcBAANbbf1Vjj9W5SsE', 'small_file_unique_id': 'AQADisAxG_A_-FcAAQ', 'big_file_unique_id': 'AQADisAxG_A_-FcB'}, 'type': 'private', 'username': 'testmsritbot', 'first_name': 'Chelaram Choudari'}\n"
     ]
    }
   ],
   "source": [
    "import telegram as t\n",
    "bot=t.Bot(\"5760897427:AAGGyyPbbaG-M2OtxShxduEziDC930mA_bg\")\n",
    "print(bot.get_chat(5760897427))"
   ]
  },
  {
   "cell_type": "code",
   "execution_count": 9,
   "metadata": {},
   "outputs": [
    {
     "name": "stdout",
     "output_type": "stream",
     "text": [
      "[\"CS71\",79],[\"CS72\",73],[\"CS73\",78],[\"CSL76\",60],[\"CSL77\",60],[\"CSSE\",0],[\"CSE751\",77],[\"CSE743\",63]\n",
      "\"CS71\",79\n",
      "\"CS72\",73\n",
      "\"CS73\",78\n",
      "\"CSL76\",60\n",
      "\"CSL77\",60\n",
      "\"CSSE\",0\n",
      "\"CSE751\",77\n",
      "\"CSE743\",63\n",
      "\n"
     ]
    }
   ],
   "source": [
    "import requests as rq\n",
    "import re\n",
    "\n",
    "\n",
    "def split_dob(dob):\n",
    "    temp=dob.split('-')\n",
    "    return temp\n",
    "\n",
    "def scrap_attendence(usn,dob):\n",
    "    temp=split_dob(dob)\n",
    "    dd=temp[0]\n",
    "    mm=temp[1]\n",
    "    yyyy=temp[2]\n",
    "    payload={\n",
    "        \"username\": usn,\n",
    "        \"dd\": dd ,\n",
    "        \"mm\": mm,\n",
    "        \"yyyy\": yyyy,\n",
    "        \"passwd\": yyyy+\"-\"+mm+\"-\"+dd,\n",
    "        \"remember\": \"No\",\n",
    "        \"option\": \"com_user\",\n",
    "        \"task\": \"login\"\n",
    "    }\n",
    "    loginurl=\"https://parents.msrit.edu/index.php\"\n",
    "    dashboardurl=\"https://parents.msrit.edu/index.php?option=com_studentdashboard&controller=studentdashboard&task=dashboard\"\n",
    "\n",
    "    with rq.session() as s:\n",
    "        r=s.post(loginurl,payload)\n",
    "        r2=s.get(dashboardurl)\n",
    "    temptext=r2.text\n",
    "    temps=re.search('type: \"bar\"',temptext)\n",
    "    text=temptext[temps.span()[0]:]\n",
    "    temp=re.search(\"columns:\",text)\n",
    "    temp2=re.search('type: \"gauge\"',text)\n",
    "    arr=text[temp.span()[1]+2:temp2.span()[0]-36]\n",
    "    print(arr)\n",
    "    regex='\"[A-Z]{2}\\d{2}\",\\d{3}||\"[A-Z]{2}\\d{2}\",\\d{2}||\"[A-Z]{3}\\d{2}\",\\d{3}||\"[A-Z]{3}\\d{2}\",\\d{2}||\"[A-Z]{3}\\d{3}\",\\d{3}||\"[A-Z]{3}\\d{3}\",\\d{2}||\"[A-Z]{4}\\d{2}\",\\d{2}||\"[A-Z]{4}\\d{2}\",\\d{3}||\"[A-Z]{4}\",\\d{2}||\"[A-Z]{4}\",\\d{3}||\"[A-Z]{4}\",\\d{1}'\n",
    "    res=re.findall(regex,arr)\n",
    "    temp=\"\"\n",
    "    for x in res:\n",
    "        if x!=\"\":\n",
    "          temp+=x+\"\\n\"\n",
    "    return temp\n",
    "\n",
    "text=scrap_attendence(\"1ms20cs030\",\"03-04-2002\")\n",
    "print(text)"
   ]
  },
  {
   "cell_type": "code",
   "execution_count": 16,
   "metadata": {},
   "outputs": [
    {
     "name": "stdout",
     "output_type": "stream",
     "text": [
      "[\"CS71\",17],[\"CS72\",7],[\"CS73\",17],[\"CSL76\",0],[\"CSL77\",0],[\"CSSE\",0],[\"CSE751\",19],[\"CSE743\",26]\n",
      "\"CS71\",17\n",
      "\"CS72\",7\n",
      "\"CS73\",17\n",
      "\"CSL76\",0\n",
      "\"CSL77\",0\n",
      "\"CSSE\",0\n",
      "\"CSE751\",19\n",
      "\"CSE743\",26\n",
      "\n"
     ]
    }
   ],
   "source": [
    "def scrap_cie(usn,dob):\n",
    "    temp=split_dob(dob)\n",
    "    dd=temp[0]\n",
    "    mm=temp[1]\n",
    "    yyyy=temp[2]\n",
    "    payload={\n",
    "        \"username\": usn,\n",
    "        \"dd\": dd ,\n",
    "        \"mm\": mm,\n",
    "        \"yyyy\": yyyy,\n",
    "        \"passwd\": yyyy+\"-\"+mm+\"-\"+dd,\n",
    "        \"remember\": \"No\",\n",
    "        \"option\": \"com_user\",\n",
    "        \"task\": \"login\"\n",
    "    }\n",
    "    loginurl=\"https://parents.msrit.edu/index.php\"\n",
    "    dashboardurl=\"https://parents.msrit.edu/index.php?option=com_studentdashboard&controller=studentdashboard&task=dashboard\"\n",
    "\n",
    "    with rq.session() as s:\n",
    "        r=s.post(loginurl,payload)\n",
    "        r2=s.get(dashboardurl)\n",
    "    text=r2.text\n",
    "    temp=re.search(\"columns:\",text)\n",
    "    temp2=re.search('type: \"bar\"',text)\n",
    "    arr=text[temp.span()[1]+2:temp2.span()[0]-9]\n",
    "    print(arr)\n",
    "    regex='\"[A-Z]{2}\\d{2}\",\\d{2}||\"[A-Z]{2}\\d{2}\",\\d{1}||\"[A-Z]{3}\\d{2}\",\\d{2}||\"[A-Z]{3}\\d{2}\",\\d{1}||\"[A-Z]{3}\\d{3}\",\\d{2}||\"[A-Z]{3}\\d{3}\",\\d{1}||\"[A-Z]{4}\\d{2}\",\\d{2}||\"[A-Z]{4}\\d{2}\",\\d{1}||\"[A-Z]{4}\",\\d{2}||\"[A-Z]{4}\",\\d{1}'\n",
    "    res=re.findall(regex,arr)\n",
    "    temp=\"\"\n",
    "    for x in res:\n",
    "        if x!=\"\":\n",
    "          temp+=x+\"\\n\"\n",
    "    return temp\n",
    "\n",
    "text=scrap_cie(\"1ms20cs030\",\"03-04-2002\")\n",
    "print(text)"
   ]
  },
  {
   "cell_type": "code",
   "execution_count": null,
   "metadata": {},
   "outputs": [],
   "source": [
    "import telegram.ext as te "
   ]
  }
 ],
 "metadata": {
  "kernelspec": {
   "display_name": "Python 3 (ipykernel)",
   "language": "python",
   "name": "python3"
  },
  "language_info": {
   "codemirror_mode": {
    "name": "ipython",
    "version": 3
   },
   "file_extension": ".py",
   "mimetype": "text/x-python",
   "name": "python",
   "nbconvert_exporter": "python",
   "pygments_lexer": "ipython3",
   "version": "3.10.7"
  },
  "vscode": {
   "interpreter": {
    "hash": "f9e3559690e10053ae8d293bea8a118fb24704cc0dde8f30b56dc2860dcb73d9"
   }
  }
 },
 "nbformat": 4,
 "nbformat_minor": 2
}
